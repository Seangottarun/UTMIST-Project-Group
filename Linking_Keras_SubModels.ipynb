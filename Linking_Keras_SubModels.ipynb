{
  "nbformat": 4,
  "nbformat_minor": 0,
  "metadata": {
    "colab": {
      "name": "Linking_Keras_SubModels.ipynb",
      "provenance": [],
      "collapsed_sections": []
    },
    "kernelspec": {
      "name": "python3",
      "display_name": "Python 3"
    }
  },
  "cells": [
    {
      "cell_type": "code",
      "metadata": {
        "id": "7kaKER9HMJYi",
        "colab_type": "code",
        "colab": {}
      },
      "source": [
        "\n",
        "from __future__ import absolute_import, division, print_function, unicode_literals\n",
        "\n",
        "import collections\n",
        "import matplotlib.pyplot as plt\n",
        "import numpy as np\n",
        "\n",
        "import tensorflow as tf\n",
        "\n",
        "from tensorflow.keras import layers\n",
        "import tensorflow_datasets as tfds\n",
        "\n",
        "import tensorflow as tf\n",
        "\n",
        "class RecurrentNet(tf.keras.Model):\n",
        "\n",
        "  def __init__(self, config, **kwargs):\n",
        "    super(RecurrentNet, self).__init__(**kwargs)\n",
        "\n",
        "    self.config = config\n",
        "\n",
        "    self.batch_size = config[\"batch_size\"]\n",
        "    self.input_dim = config[\"input_dim\"]\n",
        "    self.units = config[\"units\"]\n",
        "    self.output_size = config[\"output_size\"]\n",
        "\n",
        "    self.lstm_layer = tf.keras.layers.LSTM(self.units, input_shape=(None, self.input_dim))\n",
        "    self.batch_norm = layers.BatchNormalization()\n",
        "    self.classifier = layers.Dense(self.output_size, activation='softmax')\n",
        "\n",
        "\n",
        "  def call(self, inputs):\n",
        "    x = self.lstm_layer(inputs)\n",
        "    x = self.batch_norm(x)\n",
        "    return self.classifier(x)"
      ],
      "execution_count": 0,
      "outputs": []
    },
    {
      "cell_type": "code",
      "metadata": {
        "id": "5J-vl3eaSMQW",
        "colab_type": "code",
        "colab": {}
      },
      "source": [
        "# odd even model\n",
        "from __future__ import absolute_import, division, print_function, unicode_literals\n",
        "\n",
        "import collections\n",
        "import matplotlib.pyplot as plt\n",
        "import numpy as np\n",
        "\n",
        "import tensorflow as tf\n",
        "\n",
        "from tensorflow.keras import layers\n",
        "import tensorflow_datasets as tfds\n",
        "\n",
        "import tensorflow as tf\n",
        "\n",
        "class OddOrEvenNet(tf.keras.Model):\n",
        "\n",
        "  def __init__(self, config, **kwargs):\n",
        "    super(OddOrEvenNet, self).__init__(**kwargs)\n",
        "\n",
        "    self.config = config\n",
        "\n",
        "    # takes in 10 possible numbers and spits out 2 (either 0 or 1)\n",
        "    self.odd_or_even = layers.Dense(2, activation='sigmoid', input_shape=(10,))\n",
        "\n",
        "\n",
        "  def call(self, inputs):\n",
        "    x = self.odd_or_even(inputs)\n",
        "    return x\n"
      ],
      "execution_count": 0,
      "outputs": []
    },
    {
      "cell_type": "code",
      "metadata": {
        "id": "xA7CRdXlViBe",
        "colab_type": "code",
        "colab": {
          "base_uri": "https://localhost:8080/",
          "height": 489
        },
        "outputId": "c7948caa-03c0-4528-f2c1-30a23cf770d7"
      },
      "source": [
        "from __future__ import absolute_import, division, print_function, unicode_literals\n",
        "\n",
        "import collections\n",
        "import matplotlib.pyplot as plt\n",
        "import numpy as np\n",
        "\n",
        "import tensorflow as tf\n",
        "\n",
        "from tensorflow.keras import layers\n",
        "import tensorflow_datasets as tfds\n",
        "\n",
        "mnist = tf.keras.datasets.mnist\n",
        "\n",
        "(x_train, y_train), (x_test, y_test) = mnist.load_data()\n",
        "x_train, x_test = x_train / 255.0, x_test / 255.0\n",
        "\n",
        "# convert y_train and y_test (number labels) to even or odd\n",
        "# odd is 1 even is 0\n",
        "y_train = y_train % 2\n",
        "y_test = y_test % 2\n",
        "\n",
        "batch_size = 64\n",
        "# Each MNIST image batch is a tensor of shape (batch_size, 28, 28).\n",
        "# Each input sequence will be of size (28, 28) (height is treated like time).\n",
        "input_dim = 28\n",
        "\n",
        "\n",
        "units = 64\n",
        "output_size = 10  # labels are from 0 to 9\n",
        "\n",
        "config = {'batch_size': batch_size, 'input_dim': input_dim, 'units': units,\n",
        "    'output_size': output_size}\n",
        "\n",
        "rnn_model = RecurrentNet(config=config)\n",
        "odd_even_model = OddOrEvenNet(config=config)\n",
        "\n",
        "BigModel = tf.keras.Sequential()\n",
        "BigModel.add(rnn_model)\n",
        "BigModel.add(odd_even_model)\n",
        "\n",
        "BigModel.compile(optimizer='rmsprop',\n",
        "              loss='categorical_crossentropy',\n",
        "              metrics=['accuracy'])\n",
        "\n",
        "BigModel.fit(x_train, y_train,\n",
        "          validation_data=(x_test, y_test),\n",
        "          batch_size=batch_size,\n",
        "          epochs=5)  # starts training\n",
        "\n",
        "BigModel.summary()\n",
        "\n",
        "test_loss, test_acc = BigModel.evaluate(x_test,  y_test, verbose=2)\n",
        "\n",
        "print('\\nTest accuracy:', test_acc)\n",
        "\n",
        "# Evaluate model\n",
        "predictions = BigModel.predict(x_test)"
      ],
      "execution_count": 33,
      "outputs": [
        {
          "output_type": "stream",
          "text": [
            "Train on 60000 samples, validate on 10000 samples\n",
            "Epoch 1/5\n",
            "60000/60000 [==============================] - 39s 652us/sample - loss: 0.7049 - acc: 0.5055 - val_loss: 0.7034 - val_acc: 0.9401\n",
            "Epoch 2/5\n",
            "60000/60000 [==============================] - 37s 623us/sample - loss: 0.7049 - acc: 0.5083 - val_loss: 0.7034 - val_acc: 0.6888\n",
            "Epoch 3/5\n",
            "60000/60000 [==============================] - 37s 625us/sample - loss: 0.7049 - acc: 0.4966 - val_loss: 0.7034 - val_acc: 0.0340\n",
            "Epoch 4/5\n",
            "60000/60000 [==============================] - 38s 626us/sample - loss: 0.7049 - acc: 0.5041 - val_loss: 0.7034 - val_acc: 0.0058\n",
            "Epoch 5/5\n",
            "60000/60000 [==============================] - 38s 629us/sample - loss: 0.7049 - acc: 0.4989 - val_loss: 0.7034 - val_acc: 0.0147\n",
            "Model: \"sequential_7\"\n",
            "_________________________________________________________________\n",
            "Layer (type)                 Output Shape              Param #   \n",
            "=================================================================\n",
            "recurrent_net_9 (RecurrentNe multiple                  24714     \n",
            "_________________________________________________________________\n",
            "odd_or_even_net_4 (OddOrEven multiple                  22        \n",
            "=================================================================\n",
            "Total params: 24,736\n",
            "Trainable params: 24,608\n",
            "Non-trainable params: 128\n",
            "_________________________________________________________________\n",
            "10000/10000 - 2s - loss: 0.7034 - acc: 0.0147\n",
            "\n",
            "Test accuracy: 0.0147\n"
          ],
          "name": "stdout"
        }
      ]
    },
    {
      "cell_type": "code",
      "metadata": {
        "id": "LiBEf7wpZHC7",
        "colab_type": "code",
        "colab": {
          "base_uri": "https://localhost:8080/",
          "height": 923
        },
        "outputId": "d1825d4b-d9d2-4c19-a61a-7f77ee9a9e53"
      },
      "source": [
        "# testing functions\n",
        "class_names = [\"odd\", \"even\"]\n",
        "\n",
        "def plot_image(i, predictions_array, true_label, img):\n",
        "  predictions_array, true_label, img = predictions_array, true_label[i], img[i]\n",
        "  plt.grid(False)\n",
        "  plt.xticks([])\n",
        "  plt.yticks([])\n",
        "\n",
        "  plt.imshow(img, cmap=plt.cm.binary)\n",
        "\n",
        "  predicted_label = np.argmax(predictions_array)\n",
        "  if predicted_label == true_label:\n",
        "    color = 'blue'\n",
        "  else:\n",
        "    color = 'red'\n",
        "\n",
        "  plt.xlabel(\"{} {:2.0f}% ({})\".format(class_names[predicted_label],\n",
        "                                100*np.max(predictions_array),\n",
        "                                class_names[true_label]),\n",
        "                                color=color)\n",
        "\n",
        "def plot_value_array(i, predictions_array, true_label):\n",
        "  predictions_array, true_label = predictions_array, true_label[i]\n",
        "  plt.grid(False)\n",
        "  plt.xticks(range(2))\n",
        "  plt.yticks([])\n",
        "  thisplot = plt.bar(range(2), predictions_array, color=\"#777777\")\n",
        "  plt.ylim([0, 1])\n",
        "  predicted_label = np.argmax(predictions_array)\n",
        "\n",
        "  thisplot[predicted_label].set_color('red')\n",
        "  thisplot[true_label].set_color('blue')\n",
        "\n",
        "i = 0\n",
        "plt.figure(figsize=(6,3))\n",
        "plt.subplot(1,2,1)\n",
        "plot_image(i, predictions[i], y_test, x_test)\n",
        "plt.subplot(1,2,2)\n",
        "plot_value_array(i, predictions[i],  y_test)\n",
        "plt.show()\n",
        "\n",
        "# Plot the first X test images, their predicted labels, and the true labels.\n",
        "# Color correct predictions in blue and incorrect predictions in red.\n",
        "num_rows = 5\n",
        "num_cols = 3\n",
        "num_images = num_rows*num_cols\n",
        "plt.figure(figsize=(2*2*num_cols, 2*num_rows))\n",
        "for i in range(num_images):\n",
        "  plt.subplot(num_rows, 2*num_cols, 2*i+1)\n",
        "  plot_image(i, predictions[i], y_test, x_test)\n",
        "  plt.subplot(num_rows, 2*num_cols, 2*i+2)\n",
        "  plot_value_array(i, predictions[i], y_test)\n",
        "plt.tight_layout()\n",
        "plt.show()"
      ],
      "execution_count": 32,
      "outputs": [
        {
          "output_type": "display_data",
          "data": {
            "image/png": "[encoded data removed]",
            "text/plain": [
              "<Figure size 432x216 with 2 Axes>"
            ]
          },
          "metadata": {
            "tags": []
          }
        },
        {
          "output_type": "display_data",
          "data": {
            "image/png": "[encoded data removed]",
            "text/plain": [
              "<Figure size 864x720 with 30 Axes>"
            ]
          },
          "metadata": {
            "tags": []
          }
        }
      ]
    }
  ]
}